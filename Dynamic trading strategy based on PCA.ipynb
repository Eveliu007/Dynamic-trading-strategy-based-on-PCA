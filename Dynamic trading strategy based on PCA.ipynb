{
 "cells": [
  {
   "cell_type": "markdown",
   "metadata": {},
   "source": [
    "# Name: Yi Liu    ; USC ID: 8666552780"
   ]
  },
  {
   "cell_type": "code",
   "execution_count": 1,
   "metadata": {},
   "outputs": [],
   "source": [
    "import pandas as pd\n",
    "import statsmodels.api as sm\n",
    "import pandas_datareader.data as web\n",
    "import datetime\n",
    "import pandas_datareader as pdr\n",
    "import os\n",
    "import pandas as pd\n",
    "import numpy as np\n",
    "import matplotlib.pyplot as plt\n",
    "import yfinance as yf"
   ]
  },
  {
   "cell_type": "markdown",
   "metadata": {},
   "source": [
    "# statistical arbitrage via PCA"
   ]
  },
  {
   "cell_type": "markdown",
   "metadata": {},
   "source": [
    "### step 1: access historical share-price data on a cross_section of p stocks going back n days in history"
   ]
  },
  {
   "cell_type": "code",
   "execution_count": 2,
   "metadata": {},
   "outputs": [
    {
     "name": "stdout",
     "output_type": "stream",
     "text": [
      "[*********************100%***********************]  100 of 100 completed\n"
     ]
    }
   ],
   "source": [
    "start = datetime.datetime(2019,1,1)\n",
    "end = datetime.datetime(2020,12,31)\n",
    "\n",
    "stock_list = ['AAPL','MSFT','GOOG','2222.SR','AMZN','TSLA','FB','NVDA','BRK-A','TSM',\n",
    "             'TCEHY','JPM','V','HD','005930.KS','UNH','JNJ','LVMUY','600519.SS','WMT',\n",
    "             'PG','BABA','NSRGY','BAC','RHHBY','MA','ASML','ADBE','PFE','DIS',\n",
    "             'NFLX','NKE','XOM','OR.PA','TM','CRM','NVO','TMO','1398.HK','ORCL',\n",
    "             '300750.SZ','CSCO','CMCSA','KO','LLY','COST','ABT','AVGO','PEP','ACN',\n",
    "             'CVX','DHR','PYPL','ABBV','VZ','RELIANCE.NS','INTC','3968.HK','MPNGF',\n",
    "             'QCOM','WFC','MCD','HESAF','MRK','INTU','NVS','TXN','SHOP','MS','UPS',\n",
    "             'NEE','CICHY','TCS.NS','RYDAF','AZN','LOW','AMD','PRX.VI','LIN','T',\n",
    "             'UNP','ACGBY','SAP','SONY','KYCCF','SCHW','MDT','BHP','TMUS','RY',\n",
    "             'PM','HON','000858.SZ','PTR','PNGAY','002594.SZ','SE','CDI.PA','BLK','UL']\n",
    "data = yf.download(stock_list,start,end)\n",
    "data = data['Close']"
   ]
  },
  {
   "cell_type": "code",
   "execution_count": 3,
   "metadata": {},
   "outputs": [],
   "source": [
    "# According to US Market closed timetable:\n",
    "# in 2019: 2019-01-01,2019-01-21,2019-02-18,2019-04-19,2019-05-27,2019-07-04,2019-09-02,2019-11-28,2019-12-25 closed\n",
    "# in 2020: 2020-01-01,2020-01-20,2020-02-17,2020-04-10,2020-05-25,2020-07-03,2020-07-04,2020-09-07,2020-10-12,2020-11-03,2020-11-11,\n",
    "#          2020-11-26,2020-12-25"
   ]
  },
  {
   "cell_type": "code",
   "execution_count": 4,
   "metadata": {},
   "outputs": [],
   "source": [
    "df = data.reset_index()"
   ]
  },
  {
   "cell_type": "code",
   "execution_count": 5,
   "metadata": {},
   "outputs": [],
   "source": [
    "# remove the null value due to market closing\n",
    "list1 = ['2019-01-01','2019-01-21','2019-02-18','2019-04-19','2019-05-27','2019-07-04','2019-09-02','2019-11-28','2019-12-25',\n",
    "                      '2020-01-01','2020-01-20','2020-02-17','2020-04-10','2020-05-25','2020-07-03','2020-07-04','2020-09-07','2020-10-12',\n",
    "                      '2020-11-03','2020-11-11','2020-11-26','2020-12-25','2020-12-27']\n",
    "df1 = df[~df['Date'].isin(list1)][1:].set_index('Date')"
   ]
  },
  {
   "cell_type": "code",
   "execution_count": 6,
   "metadata": {},
   "outputs": [],
   "source": [
    "# '2222.SR' has available data till '2019-12-11','MPNGF' has available data till '2019-03-08','PRX.VI' has available data till '2019-9-27'\n",
    "# So remove three columns"
   ]
  },
  {
   "cell_type": "code",
   "execution_count": 7,
   "metadata": {},
   "outputs": [],
   "source": [
    "df1= df1.drop(columns=['2222.SR','MPNGF','PRX.VI'],axis=1)"
   ]
  },
  {
   "cell_type": "code",
   "execution_count": 8,
   "metadata": {},
   "outputs": [],
   "source": [
    "# use linear regression to fill in null value (IterativeImputer)"
   ]
  },
  {
   "cell_type": "code",
   "execution_count": 9,
   "metadata": {},
   "outputs": [],
   "source": [
    "# use knn to fill in null values(KNNImputer)"
   ]
  },
  {
   "cell_type": "code",
   "execution_count": 10,
   "metadata": {},
   "outputs": [
    {
     "data": {
      "text/html": [
       "<div>\n",
       "<style scoped>\n",
       "    .dataframe tbody tr th:only-of-type {\n",
       "        vertical-align: middle;\n",
       "    }\n",
       "\n",
       "    .dataframe tbody tr th {\n",
       "        vertical-align: top;\n",
       "    }\n",
       "\n",
       "    .dataframe thead th {\n",
       "        text-align: right;\n",
       "    }\n",
       "</style>\n",
       "<table border=\"1\" class=\"dataframe\">\n",
       "  <thead>\n",
       "    <tr style=\"text-align: right;\">\n",
       "      <th></th>\n",
       "      <th>000858.SZ</th>\n",
       "      <th>002594.SZ</th>\n",
       "      <th>005930.KS</th>\n",
       "      <th>1398.HK</th>\n",
       "      <th>300750.SZ</th>\n",
       "      <th>3968.HK</th>\n",
       "      <th>600519.SS</th>\n",
       "      <th>AAPL</th>\n",
       "      <th>ABBV</th>\n",
       "      <th>ABT</th>\n",
       "      <th>...</th>\n",
       "      <th>TXN</th>\n",
       "      <th>UL</th>\n",
       "      <th>UNH</th>\n",
       "      <th>UNP</th>\n",
       "      <th>UPS</th>\n",
       "      <th>V</th>\n",
       "      <th>VZ</th>\n",
       "      <th>WFC</th>\n",
       "      <th>WMT</th>\n",
       "      <th>XOM</th>\n",
       "    </tr>\n",
       "    <tr>\n",
       "      <th>Date</th>\n",
       "      <th></th>\n",
       "      <th></th>\n",
       "      <th></th>\n",
       "      <th></th>\n",
       "      <th></th>\n",
       "      <th></th>\n",
       "      <th></th>\n",
       "      <th></th>\n",
       "      <th></th>\n",
       "      <th></th>\n",
       "      <th></th>\n",
       "      <th></th>\n",
       "      <th></th>\n",
       "      <th></th>\n",
       "      <th></th>\n",
       "      <th></th>\n",
       "      <th></th>\n",
       "      <th></th>\n",
       "      <th></th>\n",
       "      <th></th>\n",
       "      <th></th>\n",
       "    </tr>\n",
       "  </thead>\n",
       "  <tbody>\n",
       "    <tr>\n",
       "      <th>2019-01-02</th>\n",
       "      <td>49.939999</td>\n",
       "      <td>49.169998</td>\n",
       "      <td>38750.0</td>\n",
       "      <td>5.43</td>\n",
       "      <td>73.660004</td>\n",
       "      <td>27.700001</td>\n",
       "      <td>598.979980</td>\n",
       "      <td>157.919998</td>\n",
       "      <td>89.230003</td>\n",
       "      <td>69.500000</td>\n",
       "      <td>...</td>\n",
       "      <td>94.449997</td>\n",
       "      <td>52.110001</td>\n",
       "      <td>243.490005</td>\n",
       "      <td>137.779999</td>\n",
       "      <td>97.209999</td>\n",
       "      <td>132.919998</td>\n",
       "      <td>56.020000</td>\n",
       "      <td>46.939999</td>\n",
       "      <td>93.339996</td>\n",
       "      <td>69.690002</td>\n",
       "    </tr>\n",
       "    <tr>\n",
       "      <th>2019-01-03</th>\n",
       "      <td>48.959999</td>\n",
       "      <td>48.060001</td>\n",
       "      <td>37600.0</td>\n",
       "      <td>5.44</td>\n",
       "      <td>73.830002</td>\n",
       "      <td>27.600000</td>\n",
       "      <td>590.000000</td>\n",
       "      <td>142.190002</td>\n",
       "      <td>86.290001</td>\n",
       "      <td>66.220001</td>\n",
       "      <td>...</td>\n",
       "      <td>88.879997</td>\n",
       "      <td>51.869999</td>\n",
       "      <td>236.850006</td>\n",
       "      <td>132.679993</td>\n",
       "      <td>94.449997</td>\n",
       "      <td>128.130005</td>\n",
       "      <td>56.220001</td>\n",
       "      <td>46.570000</td>\n",
       "      <td>92.860001</td>\n",
       "      <td>68.620003</td>\n",
       "    </tr>\n",
       "    <tr>\n",
       "      <th>2019-01-04</th>\n",
       "      <td>49.540001</td>\n",
       "      <td>50.650002</td>\n",
       "      <td>37450.0</td>\n",
       "      <td>5.52</td>\n",
       "      <td>76.959999</td>\n",
       "      <td>28.250000</td>\n",
       "      <td>602.000000</td>\n",
       "      <td>148.259995</td>\n",
       "      <td>89.070000</td>\n",
       "      <td>68.110001</td>\n",
       "      <td>...</td>\n",
       "      <td>92.900002</td>\n",
       "      <td>52.720001</td>\n",
       "      <td>239.619995</td>\n",
       "      <td>137.789993</td>\n",
       "      <td>97.739998</td>\n",
       "      <td>133.649994</td>\n",
       "      <td>56.360001</td>\n",
       "      <td>47.950001</td>\n",
       "      <td>93.440002</td>\n",
       "      <td>71.150002</td>\n",
       "    </tr>\n",
       "    <tr>\n",
       "      <th>2019-01-07</th>\n",
       "      <td>49.310001</td>\n",
       "      <td>51.389999</td>\n",
       "      <td>38750.0</td>\n",
       "      <td>5.54</td>\n",
       "      <td>77.419998</td>\n",
       "      <td>28.650000</td>\n",
       "      <td>605.489990</td>\n",
       "      <td>147.929993</td>\n",
       "      <td>90.370003</td>\n",
       "      <td>69.129997</td>\n",
       "      <td>...</td>\n",
       "      <td>94.500000</td>\n",
       "      <td>52.330002</td>\n",
       "      <td>240.080002</td>\n",
       "      <td>138.649994</td>\n",
       "      <td>97.410004</td>\n",
       "      <td>136.059998</td>\n",
       "      <td>56.720001</td>\n",
       "      <td>47.639999</td>\n",
       "      <td>94.540001</td>\n",
       "      <td>71.519997</td>\n",
       "    </tr>\n",
       "    <tr>\n",
       "      <th>2019-01-08</th>\n",
       "      <td>49.020000</td>\n",
       "      <td>52.880001</td>\n",
       "      <td>38100.0</td>\n",
       "      <td>5.52</td>\n",
       "      <td>79.330002</td>\n",
       "      <td>28.549999</td>\n",
       "      <td>604.789978</td>\n",
       "      <td>150.750000</td>\n",
       "      <td>90.790001</td>\n",
       "      <td>68.300003</td>\n",
       "      <td>...</td>\n",
       "      <td>94.379997</td>\n",
       "      <td>52.340000</td>\n",
       "      <td>243.289993</td>\n",
       "      <td>150.750000</td>\n",
       "      <td>97.419998</td>\n",
       "      <td>136.800003</td>\n",
       "      <td>58.380001</td>\n",
       "      <td>47.540001</td>\n",
       "      <td>95.199997</td>\n",
       "      <td>72.040001</td>\n",
       "    </tr>\n",
       "    <tr>\n",
       "      <th>...</th>\n",
       "      <td>...</td>\n",
       "      <td>...</td>\n",
       "      <td>...</td>\n",
       "      <td>...</td>\n",
       "      <td>...</td>\n",
       "      <td>...</td>\n",
       "      <td>...</td>\n",
       "      <td>...</td>\n",
       "      <td>...</td>\n",
       "      <td>...</td>\n",
       "      <td>...</td>\n",
       "      <td>...</td>\n",
       "      <td>...</td>\n",
       "      <td>...</td>\n",
       "      <td>...</td>\n",
       "      <td>...</td>\n",
       "      <td>...</td>\n",
       "      <td>...</td>\n",
       "      <td>...</td>\n",
       "      <td>...</td>\n",
       "      <td>...</td>\n",
       "    </tr>\n",
       "    <tr>\n",
       "      <th>2020-12-23</th>\n",
       "      <td>278.290009</td>\n",
       "      <td>186.789993</td>\n",
       "      <td>73900.0</td>\n",
       "      <td>4.47</td>\n",
       "      <td>318.000000</td>\n",
       "      <td>46.900002</td>\n",
       "      <td>1841.650024</td>\n",
       "      <td>130.960007</td>\n",
       "      <td>103.279999</td>\n",
       "      <td>107.449997</td>\n",
       "      <td>...</td>\n",
       "      <td>160.979996</td>\n",
       "      <td>58.389999</td>\n",
       "      <td>337.589996</td>\n",
       "      <td>201.169998</td>\n",
       "      <td>172.639999</td>\n",
       "      <td>205.300003</td>\n",
       "      <td>58.959999</td>\n",
       "      <td>30.350000</td>\n",
       "      <td>143.220001</td>\n",
       "      <td>41.770000</td>\n",
       "    </tr>\n",
       "    <tr>\n",
       "      <th>2020-12-24</th>\n",
       "      <td>275.320007</td>\n",
       "      <td>183.000000</td>\n",
       "      <td>77800.0</td>\n",
       "      <td>4.54</td>\n",
       "      <td>311.000000</td>\n",
       "      <td>47.549999</td>\n",
       "      <td>1830.339966</td>\n",
       "      <td>131.970001</td>\n",
       "      <td>103.260002</td>\n",
       "      <td>108.349998</td>\n",
       "      <td>...</td>\n",
       "      <td>161.639999</td>\n",
       "      <td>58.680000</td>\n",
       "      <td>340.790009</td>\n",
       "      <td>203.389999</td>\n",
       "      <td>172.190002</td>\n",
       "      <td>208.699997</td>\n",
       "      <td>58.840000</td>\n",
       "      <td>29.840000</td>\n",
       "      <td>143.500000</td>\n",
       "      <td>41.599998</td>\n",
       "    </tr>\n",
       "    <tr>\n",
       "      <th>2020-12-28</th>\n",
       "      <td>285.950012</td>\n",
       "      <td>187.929993</td>\n",
       "      <td>78700.0</td>\n",
       "      <td>4.76</td>\n",
       "      <td>316.779999</td>\n",
       "      <td>48.500000</td>\n",
       "      <td>1873.000000</td>\n",
       "      <td>136.690002</td>\n",
       "      <td>103.449997</td>\n",
       "      <td>107.790001</td>\n",
       "      <td>...</td>\n",
       "      <td>161.470001</td>\n",
       "      <td>59.090000</td>\n",
       "      <td>345.950012</td>\n",
       "      <td>205.649994</td>\n",
       "      <td>171.360001</td>\n",
       "      <td>212.630005</td>\n",
       "      <td>58.980000</td>\n",
       "      <td>29.930000</td>\n",
       "      <td>145.220001</td>\n",
       "      <td>41.740002</td>\n",
       "    </tr>\n",
       "    <tr>\n",
       "      <th>2020-12-29</th>\n",
       "      <td>281.000000</td>\n",
       "      <td>178.600006</td>\n",
       "      <td>78300.0</td>\n",
       "      <td>4.90</td>\n",
       "      <td>308.000000</td>\n",
       "      <td>48.349998</td>\n",
       "      <td>1867.000000</td>\n",
       "      <td>134.869995</td>\n",
       "      <td>104.699997</td>\n",
       "      <td>108.330002</td>\n",
       "      <td>...</td>\n",
       "      <td>161.179993</td>\n",
       "      <td>60.130001</td>\n",
       "      <td>347.350006</td>\n",
       "      <td>204.419998</td>\n",
       "      <td>169.029999</td>\n",
       "      <td>214.369995</td>\n",
       "      <td>58.810001</td>\n",
       "      <td>29.780001</td>\n",
       "      <td>144.300003</td>\n",
       "      <td>41.270000</td>\n",
       "    </tr>\n",
       "    <tr>\n",
       "      <th>2020-12-30</th>\n",
       "      <td>286.880005</td>\n",
       "      <td>186.000000</td>\n",
       "      <td>81000.0</td>\n",
       "      <td>4.93</td>\n",
       "      <td>340.000000</td>\n",
       "      <td>48.849998</td>\n",
       "      <td>1933.000000</td>\n",
       "      <td>133.720001</td>\n",
       "      <td>105.269997</td>\n",
       "      <td>108.440002</td>\n",
       "      <td>...</td>\n",
       "      <td>162.699997</td>\n",
       "      <td>60.900002</td>\n",
       "      <td>344.989990</td>\n",
       "      <td>205.979996</td>\n",
       "      <td>166.229996</td>\n",
       "      <td>218.360001</td>\n",
       "      <td>58.139999</td>\n",
       "      <td>29.750000</td>\n",
       "      <td>144.179993</td>\n",
       "      <td>41.599998</td>\n",
       "    </tr>\n",
       "  </tbody>\n",
       "</table>\n",
       "<p>555 rows × 97 columns</p>\n",
       "</div>"
      ],
      "text/plain": [
       "             000858.SZ   002594.SZ  005930.KS  1398.HK   300750.SZ    3968.HK  \\\n",
       "Date                                                                            \n",
       "2019-01-02   49.939999   49.169998    38750.0     5.43   73.660004  27.700001   \n",
       "2019-01-03   48.959999   48.060001    37600.0     5.44   73.830002  27.600000   \n",
       "2019-01-04   49.540001   50.650002    37450.0     5.52   76.959999  28.250000   \n",
       "2019-01-07   49.310001   51.389999    38750.0     5.54   77.419998  28.650000   \n",
       "2019-01-08   49.020000   52.880001    38100.0     5.52   79.330002  28.549999   \n",
       "...                ...         ...        ...      ...         ...        ...   \n",
       "2020-12-23  278.290009  186.789993    73900.0     4.47  318.000000  46.900002   \n",
       "2020-12-24  275.320007  183.000000    77800.0     4.54  311.000000  47.549999   \n",
       "2020-12-28  285.950012  187.929993    78700.0     4.76  316.779999  48.500000   \n",
       "2020-12-29  281.000000  178.600006    78300.0     4.90  308.000000  48.349998   \n",
       "2020-12-30  286.880005  186.000000    81000.0     4.93  340.000000  48.849998   \n",
       "\n",
       "              600519.SS        AAPL        ABBV         ABT  ...         TXN  \\\n",
       "Date                                                         ...               \n",
       "2019-01-02   598.979980  157.919998   89.230003   69.500000  ...   94.449997   \n",
       "2019-01-03   590.000000  142.190002   86.290001   66.220001  ...   88.879997   \n",
       "2019-01-04   602.000000  148.259995   89.070000   68.110001  ...   92.900002   \n",
       "2019-01-07   605.489990  147.929993   90.370003   69.129997  ...   94.500000   \n",
       "2019-01-08   604.789978  150.750000   90.790001   68.300003  ...   94.379997   \n",
       "...                 ...         ...         ...         ...  ...         ...   \n",
       "2020-12-23  1841.650024  130.960007  103.279999  107.449997  ...  160.979996   \n",
       "2020-12-24  1830.339966  131.970001  103.260002  108.349998  ...  161.639999   \n",
       "2020-12-28  1873.000000  136.690002  103.449997  107.790001  ...  161.470001   \n",
       "2020-12-29  1867.000000  134.869995  104.699997  108.330002  ...  161.179993   \n",
       "2020-12-30  1933.000000  133.720001  105.269997  108.440002  ...  162.699997   \n",
       "\n",
       "                   UL         UNH         UNP         UPS           V  \\\n",
       "Date                                                                    \n",
       "2019-01-02  52.110001  243.490005  137.779999   97.209999  132.919998   \n",
       "2019-01-03  51.869999  236.850006  132.679993   94.449997  128.130005   \n",
       "2019-01-04  52.720001  239.619995  137.789993   97.739998  133.649994   \n",
       "2019-01-07  52.330002  240.080002  138.649994   97.410004  136.059998   \n",
       "2019-01-08  52.340000  243.289993  150.750000   97.419998  136.800003   \n",
       "...               ...         ...         ...         ...         ...   \n",
       "2020-12-23  58.389999  337.589996  201.169998  172.639999  205.300003   \n",
       "2020-12-24  58.680000  340.790009  203.389999  172.190002  208.699997   \n",
       "2020-12-28  59.090000  345.950012  205.649994  171.360001  212.630005   \n",
       "2020-12-29  60.130001  347.350006  204.419998  169.029999  214.369995   \n",
       "2020-12-30  60.900002  344.989990  205.979996  166.229996  218.360001   \n",
       "\n",
       "                   VZ        WFC         WMT        XOM  \n",
       "Date                                                     \n",
       "2019-01-02  56.020000  46.939999   93.339996  69.690002  \n",
       "2019-01-03  56.220001  46.570000   92.860001  68.620003  \n",
       "2019-01-04  56.360001  47.950001   93.440002  71.150002  \n",
       "2019-01-07  56.720001  47.639999   94.540001  71.519997  \n",
       "2019-01-08  58.380001  47.540001   95.199997  72.040001  \n",
       "...               ...        ...         ...        ...  \n",
       "2020-12-23  58.959999  30.350000  143.220001  41.770000  \n",
       "2020-12-24  58.840000  29.840000  143.500000  41.599998  \n",
       "2020-12-28  58.980000  29.930000  145.220001  41.740002  \n",
       "2020-12-29  58.810001  29.780001  144.300003  41.270000  \n",
       "2020-12-30  58.139999  29.750000  144.179993  41.599998  \n",
       "\n",
       "[555 rows x 97 columns]"
      ]
     },
     "execution_count": 10,
     "metadata": {},
     "output_type": "execute_result"
    }
   ],
   "source": [
    "df1"
   ]
  },
  {
   "cell_type": "code",
   "execution_count": 11,
   "metadata": {},
   "outputs": [],
   "source": [
    "from sklearn.experimental import enable_iterative_imputer\n",
    "from sklearn.impute import IterativeImputer\n",
    "from sklearn.impute import KNNImputer"
   ]
  },
  {
   "cell_type": "code",
   "execution_count": 12,
   "metadata": {},
   "outputs": [
    {
     "name": "stderr",
     "output_type": "stream",
     "text": [
      "C:\\anoconda\\lib\\site-packages\\sklearn\\impute\\_iterative.py:638: ConvergenceWarning: [IterativeImputer] Early stopping criterion not reached.\n",
      "  \" reached.\", ConvergenceWarning)\n"
     ]
    }
   ],
   "source": [
    "impute_it=IterativeImputer()\n",
    "data1 = pd.DataFrame(impute_it.fit_transform(df1))"
   ]
  },
  {
   "cell_type": "code",
   "execution_count": 13,
   "metadata": {},
   "outputs": [],
   "source": [
    "data1.columns=df1.columns\n",
    "data1.index = df1.index"
   ]
  },
  {
   "cell_type": "code",
   "execution_count": 14,
   "metadata": {},
   "outputs": [],
   "source": [
    "impute_knn = KNNImputer()\n",
    "data2 = pd.DataFrame(impute_knn.fit_transform(df1))\n",
    "data2.columns=df1.columns\n",
    "data2.index = df1.index"
   ]
  },
  {
   "cell_type": "markdown",
   "metadata": {},
   "source": [
    "### Step 2: calculate the stocks return data; normalize data by standard deviation"
   ]
  },
  {
   "cell_type": "code",
   "execution_count": 15,
   "metadata": {},
   "outputs": [],
   "source": [
    "df = np.array(data2.pct_change(1)[1:])"
   ]
  },
  {
   "cell_type": "code",
   "execution_count": 16,
   "metadata": {},
   "outputs": [],
   "source": [
    "# normalize data\n",
    "df = df/np.std(df,axis=0)"
   ]
  },
  {
   "cell_type": "markdown",
   "metadata": {},
   "source": [
    "### step 3: Calculating Covariance Matrix, Eigenvalues and Eigen-vectors"
   ]
  },
  {
   "cell_type": "code",
   "execution_count": 17,
   "metadata": {},
   "outputs": [],
   "source": [
    "covariance = np.cov(df.T)\n",
    "std_vec = np.std(df,axis=0)"
   ]
  },
  {
   "cell_type": "code",
   "execution_count": 18,
   "metadata": {},
   "outputs": [],
   "source": [
    "eig_vals, eig_vecs = np.linalg.eig(covariance)\n",
    "eig_vecs = eig_vecs.T\n",
    "sort_indices = eig_vals.argsort()[::-1]\n",
    "eig_vals = eig_vals[sort_indices]\n",
    "eig_vecs = eig_vecs[sort_indices]"
   ]
  },
  {
   "cell_type": "code",
   "execution_count": 19,
   "metadata": {},
   "outputs": [
    {
     "data": {
      "text/plain": [
       "(97,)"
      ]
     },
     "execution_count": 19,
     "metadata": {},
     "output_type": "execute_result"
    }
   ],
   "source": [
    "eig_vals.shape"
   ]
  },
  {
   "cell_type": "code",
   "execution_count": 20,
   "metadata": {},
   "outputs": [
    {
     "data": {
      "text/plain": [
       "(97, 97)"
      ]
     },
     "execution_count": 20,
     "metadata": {},
     "output_type": "execute_result"
    }
   ],
   "source": [
    "eig_vecs.shape"
   ]
  },
  {
   "cell_type": "code",
   "execution_count": 21,
   "metadata": {},
   "outputs": [
    {
     "data": {
      "text/plain": [
       "(554, 97)"
      ]
     },
     "execution_count": 21,
     "metadata": {},
     "output_type": "execute_result"
    }
   ],
   "source": [
    "df.shape"
   ]
  },
  {
   "cell_type": "markdown",
   "metadata": {},
   "source": [
    "### Step 4: select the number of d in the model"
   ]
  },
  {
   "cell_type": "code",
   "execution_count": 22,
   "metadata": {},
   "outputs": [],
   "source": [
    "# Approach 1\n",
    "from sklearn.decomposition import PCA\n",
    "pca = PCA()\n",
    "pca.fit(df)\n",
    "cumsum = np.cumsum(pca.explained_variance_ratio_)\n",
    "d = np.argmax(cumsum >=0.95)+1"
   ]
  },
  {
   "cell_type": "code",
   "execution_count": 23,
   "metadata": {},
   "outputs": [
    {
     "data": {
      "text/plain": [
       "14"
      ]
     },
     "execution_count": 23,
     "metadata": {},
     "output_type": "execute_result"
    }
   ],
   "source": [
    "d"
   ]
  },
  {
   "cell_type": "code",
   "execution_count": 24,
   "metadata": {},
   "outputs": [
    {
     "data": {
      "image/png": "[encoded data removed]",
      "text/plain": [
       "<Figure size 432x288 with 1 Axes>"
      ]
     },
     "metadata": {
      "needs_background": "light"
     },
     "output_type": "display_data"
    }
   ],
   "source": [
    "plt.figure(figsize=(6,4))\n",
    "plt.plot(cumsum,lw=3)\n",
    "plt.axis([0,100,0,1])\n",
    "plt.xlabel('Dimensions')\n",
    "plt.ylabel('Explained Variance')\n",
    "plt.plot([d, d], [0, 0.95], \"k:\")\n",
    "plt.plot([0, d], [0.95, 0.95], \"k:\")\n",
    "plt.plot(d, 0.95, \"ko\")\n",
    "plt.annotate(\"Elbow\", xy=(16, 0.9), xytext=(24, 0.8),\n",
    "             arrowprops=dict(arrowstyle=\"->\"), fontsize=16)\n",
    "plt.annotate(\"14\", xy=(14, 0),fontsize=12)\n",
    "plt.grid(True)\n",
    "plt.show()"
   ]
  },
  {
   "cell_type": "code",
   "execution_count": 25,
   "metadata": {},
   "outputs": [],
   "source": [
    "# Approach 2\n",
    "pca = PCA(n_components=0.95)\n",
    "df_reduced = pca.fit_transform(df)"
   ]
  },
  {
   "cell_type": "code",
   "execution_count": 26,
   "metadata": {},
   "outputs": [
    {
     "data": {
      "text/plain": [
       "14"
      ]
     },
     "execution_count": 26,
     "metadata": {},
     "output_type": "execute_result"
    }
   ],
   "source": [
    "pca.n_components_"
   ]
  },
  {
   "cell_type": "code",
   "execution_count": 27,
   "metadata": {},
   "outputs": [
    {
     "data": {
      "text/plain": [
       "0.9514506105312239"
      ]
     },
     "execution_count": 27,
     "metadata": {},
     "output_type": "execute_result"
    }
   ],
   "source": [
    "np.sum(pca.explained_variance_ratio_)"
   ]
  },
  {
   "cell_type": "code",
   "execution_count": 28,
   "metadata": {},
   "outputs": [],
   "source": [
    "#  choose the number of dimensions that add up to a sufficiently large portion of the variance (e.g., 95%).d=14"
   ]
  },
  {
   "cell_type": "markdown",
   "metadata": {},
   "source": [
    "### Step 5: construct factors with d=14, and perform Regression"
   ]
  },
  {
   "cell_type": "code",
   "execution_count": 29,
   "metadata": {},
   "outputs": [],
   "source": [
    "top_factors= np.zeros((df.shape[0],d))"
   ]
  },
  {
   "cell_type": "code",
   "execution_count": 30,
   "metadata": {},
   "outputs": [],
   "source": [
    "for i in range(d):\n",
    "    eigen_vec = eig_vecs[i,:]\n",
    "    eigen_vec /= std_vec\n",
    "    top_factors[:,i] = df.dot(eigen_vec)"
   ]
  },
  {
   "cell_type": "code",
   "execution_count": 31,
   "metadata": {},
   "outputs": [
    {
     "name": "stdout",
     "output_type": "stream",
     "text": [
      "92\n"
     ]
    }
   ],
   "source": [
    "print(data1.columns.get_loc('V'))"
   ]
  },
  {
   "cell_type": "code",
   "execution_count": 32,
   "metadata": {},
   "outputs": [
    {
     "name": "stdout",
     "output_type": "stream",
     "text": [
      "                            OLS Regression Results                            \n",
      "==============================================================================\n",
      "Dep. Variable:                      y   R-squared:                       0.961\n",
      "Model:                            OLS   Adj. R-squared:                  0.960\n",
      "Method:                 Least Squares   F-statistic:                     949.4\n",
      "Date:                Mon, 13 Dec 2021   Prob (F-statistic):               0.00\n",
      "Time:                        13:56:38   Log-Likelihood:                 112.75\n",
      "No. Observations:                 554   AIC:                            -195.5\n",
      "Df Residuals:                     539   BIC:                            -130.7\n",
      "Df Model:                          14                                         \n",
      "Covariance Type:            nonrobust                                         \n",
      "==============================================================================\n",
      "                 coef    std err          t      P>|t|      [0.025      0.975]\n",
      "------------------------------------------------------------------------------\n",
      "const          0.0061      0.009      0.670      0.503      -0.012       0.024\n",
      "x1            -0.1178      0.001   -101.898      0.000      -0.120      -0.115\n",
      "x2            -0.0445      0.002    -24.897      0.000      -0.048      -0.041\n",
      "x3            -0.1527      0.004    -40.015      0.000      -0.160      -0.145\n",
      "x4             0.0017      0.005      0.335      0.738      -0.008       0.012\n",
      "x5            -0.0033      0.006     -0.594      0.553      -0.014       0.008\n",
      "x6             0.1675      0.008     20.870      0.000       0.152       0.183\n",
      "x7            -0.0671      0.010     -7.000      0.000      -0.086      -0.048\n",
      "x8             0.0483      0.010      4.690      0.000       0.028       0.069\n",
      "x9             0.0181      0.011      1.670      0.096      -0.003       0.039\n",
      "x10            0.0485      0.011      4.351      0.000       0.027       0.070\n",
      "x11           -0.0915      0.012     -7.599      0.000      -0.115      -0.068\n",
      "x12           -0.1144      0.013     -8.859      0.000      -0.140      -0.089\n",
      "x13           -0.0365      0.014     -2.619      0.009      -0.064      -0.009\n",
      "x14           -0.0584      0.015     -3.904      0.000      -0.088      -0.029\n",
      "==============================================================================\n",
      "Omnibus:                       43.826   Durbin-Watson:                   2.342\n",
      "Prob(Omnibus):                  0.000   Jarque-Bera (JB):              203.557\n",
      "Skew:                          -0.027   Prob(JB):                     6.28e-45\n",
      "Kurtosis:                       5.969   Cond. No.                         13.0\n",
      "==============================================================================\n",
      "\n",
      "Warnings:\n",
      "[1] Standard Errors assume that the covariance matrix of the errors is correctly specified.\n"
     ]
    }
   ],
   "source": [
    "y = np.array(df)[:,92]  # choose return of Visa as response variable\n",
    "x1 = sm.add_constant(top_factors)\n",
    "# construct OLS model\n",
    "model = sm.OLS(y,x1)\n",
    "# fit model and print results\n",
    "results = model.fit()\n",
    "print(results.summary())"
   ]
  },
  {
   "cell_type": "code",
   "execution_count": 33,
   "metadata": {},
   "outputs": [],
   "source": [
    "# in 14-dimension, the R-squared is 96.1%, so this model can at least explain 96% of original variance; it's a very good performance\n",
    "# Although some of P values are large due to non-significant coefficient, most of P values are zero"
   ]
  },
  {
   "cell_type": "markdown",
   "metadata": {},
   "source": [
    "### Step 6: Construct Trading Signals"
   ]
  },
  {
   "cell_type": "code",
   "execution_count": 34,
   "metadata": {},
   "outputs": [],
   "source": [
    "residual = y-np.dot(x1,results.params)"
   ]
  },
  {
   "cell_type": "code",
   "execution_count": 35,
   "metadata": {},
   "outputs": [
    {
     "data": {
      "text/plain": [
       "Text(0, 0.5, 'signal')"
      ]
     },
     "execution_count": 35,
     "metadata": {},
     "output_type": "execute_result"
    },
    {
     "data": {
      "image/png": "[encoded data removed]",
      "text/plain": [
       "<Figure size 1080x432 with 1 Axes>"
      ]
     },
     "metadata": {
      "needs_background": "light"
     },
     "output_type": "display_data"
    }
   ],
   "source": [
    "plt.figure(figsize=(15,6))\n",
    "plt.plot(np.cumsum(residual)-np.mean(np.cumsum(residual)))\n",
    "plt.axhline(residual.mean(),ls='--',c='r',lw=2)\n",
    "plt.axhline(residual.mean()+2*residual.std(),ls='--',c='g',lw=2)\n",
    "plt.axhline(residual.mean()-2*residual.std(),ls='--',c='g',lw=2)\n",
    "plt.xlabel('dates')\n",
    "plt.ylabel('signal')"
   ]
  },
  {
   "cell_type": "code",
   "execution_count": 36,
   "metadata": {},
   "outputs": [
    {
     "data": {
      "text/plain": [
       "0.39482731279727523"
      ]
     },
     "execution_count": 36,
     "metadata": {},
     "output_type": "execute_result"
    }
   ],
   "source": [
    "2*residual.std()"
   ]
  },
  {
   "cell_type": "code",
   "execution_count": 37,
   "metadata": {},
   "outputs": [],
   "source": [
    "# Trading strategy: \n",
    "# Set threshold at 2 standard deviation of residual (0.394)\n",
    "# Short V+Long other 96 stocks multiplied by parameters when signal hits level (mean+2std),\n",
    "# Long V+SHORT other 96 stocks when signal hits level (mean-2std)\n",
    "# Based on In-sample data, can execute 10 times trading, each trading earns $0.394"
   ]
  },
  {
   "cell_type": "markdown",
   "metadata": {},
   "source": [
    "### Step 7: Test trading strategy(Out of sample)"
   ]
  },
  {
   "cell_type": "code",
   "execution_count": 57,
   "metadata": {},
   "outputs": [
    {
     "name": "stdout",
     "output_type": "stream",
     "text": [
      "[*********************100%***********************]  100 of 100 completed\n"
     ]
    }
   ],
   "source": [
    "start_te = datetime.datetime(2021,1,1)\n",
    "end_te = datetime.datetime(2021,11,30)\n",
    "test_data = yf.download(stock_list,start_te,end_te)\n",
    "test_data = test_data['Close']"
   ]
  },
  {
   "cell_type": "code",
   "execution_count": 39,
   "metadata": {},
   "outputs": [],
   "source": [
    "df2 = test_data.reset_index()"
   ]
  },
  {
   "cell_type": "code",
   "execution_count": 40,
   "metadata": {},
   "outputs": [],
   "source": [
    "df2= df2.drop(columns=['2222.SR','MPNGF','PRX.VI'],axis=1)"
   ]
  },
  {
   "cell_type": "code",
   "execution_count": 41,
   "metadata": {},
   "outputs": [
    {
     "data": {
      "text/html": [
       "<div>\n",
       "<style scoped>\n",
       "    .dataframe tbody tr th:only-of-type {\n",
       "        vertical-align: middle;\n",
       "    }\n",
       "\n",
       "    .dataframe tbody tr th {\n",
       "        vertical-align: top;\n",
       "    }\n",
       "\n",
       "    .dataframe thead th {\n",
       "        text-align: right;\n",
       "    }\n",
       "</style>\n",
       "<table border=\"1\" class=\"dataframe\">\n",
       "  <thead>\n",
       "    <tr style=\"text-align: right;\">\n",
       "      <th></th>\n",
       "      <th>000858.SZ</th>\n",
       "      <th>002594.SZ</th>\n",
       "      <th>005930.KS</th>\n",
       "      <th>1398.HK</th>\n",
       "      <th>300750.SZ</th>\n",
       "      <th>3968.HK</th>\n",
       "      <th>600519.SS</th>\n",
       "      <th>AAPL</th>\n",
       "      <th>ABBV</th>\n",
       "      <th>ABT</th>\n",
       "      <th>...</th>\n",
       "      <th>TXN</th>\n",
       "      <th>UL</th>\n",
       "      <th>UNH</th>\n",
       "      <th>UNP</th>\n",
       "      <th>UPS</th>\n",
       "      <th>V</th>\n",
       "      <th>VZ</th>\n",
       "      <th>WFC</th>\n",
       "      <th>WMT</th>\n",
       "      <th>XOM</th>\n",
       "    </tr>\n",
       "    <tr>\n",
       "      <th>Date</th>\n",
       "      <th></th>\n",
       "      <th></th>\n",
       "      <th></th>\n",
       "      <th></th>\n",
       "      <th></th>\n",
       "      <th></th>\n",
       "      <th></th>\n",
       "      <th></th>\n",
       "      <th></th>\n",
       "      <th></th>\n",
       "      <th></th>\n",
       "      <th></th>\n",
       "      <th></th>\n",
       "      <th></th>\n",
       "      <th></th>\n",
       "      <th></th>\n",
       "      <th></th>\n",
       "      <th></th>\n",
       "      <th></th>\n",
       "      <th></th>\n",
       "      <th></th>\n",
       "    </tr>\n",
       "  </thead>\n",
       "  <tbody>\n",
       "    <tr>\n",
       "      <th>2020-12-31</th>\n",
       "      <td>NaN</td>\n",
       "      <td>NaN</td>\n",
       "      <td>NaN</td>\n",
       "      <td>NaN</td>\n",
       "      <td>NaN</td>\n",
       "      <td>NaN</td>\n",
       "      <td>NaN</td>\n",
       "      <td>132.690002</td>\n",
       "      <td>107.150002</td>\n",
       "      <td>109.489998</td>\n",
       "      <td>...</td>\n",
       "      <td>164.130005</td>\n",
       "      <td>60.360001</td>\n",
       "      <td>350.679993</td>\n",
       "      <td>208.220001</td>\n",
       "      <td>168.399994</td>\n",
       "      <td>218.729996</td>\n",
       "      <td>58.750000</td>\n",
       "      <td>30.180000</td>\n",
       "      <td>144.149994</td>\n",
       "      <td>41.220001</td>\n",
       "    </tr>\n",
       "    <tr>\n",
       "      <th>2021-01-04</th>\n",
       "      <td>298.049988</td>\n",
       "      <td>206.759995</td>\n",
       "      <td>83000.0</td>\n",
       "      <td>4.85</td>\n",
       "      <td>404.100006</td>\n",
       "      <td>47.000000</td>\n",
       "      <td>1997.000000</td>\n",
       "      <td>129.410004</td>\n",
       "      <td>105.410004</td>\n",
       "      <td>109.110001</td>\n",
       "      <td>...</td>\n",
       "      <td>162.220001</td>\n",
       "      <td>60.529999</td>\n",
       "      <td>349.500000</td>\n",
       "      <td>203.009995</td>\n",
       "      <td>163.800003</td>\n",
       "      <td>217.759995</td>\n",
       "      <td>58.849998</td>\n",
       "      <td>29.700001</td>\n",
       "      <td>146.529999</td>\n",
       "      <td>41.500000</td>\n",
       "    </tr>\n",
       "    <tr>\n",
       "      <th>2021-01-05</th>\n",
       "      <td>319.980011</td>\n",
       "      <td>219.899994</td>\n",
       "      <td>83900.0</td>\n",
       "      <td>4.81</td>\n",
       "      <td>402.000000</td>\n",
       "      <td>47.849998</td>\n",
       "      <td>2059.449951</td>\n",
       "      <td>131.009995</td>\n",
       "      <td>106.500000</td>\n",
       "      <td>110.459999</td>\n",
       "      <td>...</td>\n",
       "      <td>163.410004</td>\n",
       "      <td>60.560001</td>\n",
       "      <td>344.799988</td>\n",
       "      <td>205.500000</td>\n",
       "      <td>161.520004</td>\n",
       "      <td>214.509995</td>\n",
       "      <td>58.580002</td>\n",
       "      <td>30.530001</td>\n",
       "      <td>145.750000</td>\n",
       "      <td>43.500000</td>\n",
       "    </tr>\n",
       "    <tr>\n",
       "      <th>2021-01-06</th>\n",
       "      <td>328.299988</td>\n",
       "      <td>216.300003</td>\n",
       "      <td>82200.0</td>\n",
       "      <td>4.82</td>\n",
       "      <td>406.769989</td>\n",
       "      <td>49.200001</td>\n",
       "      <td>2100.000000</td>\n",
       "      <td>126.599998</td>\n",
       "      <td>105.580002</td>\n",
       "      <td>110.230003</td>\n",
       "      <td>...</td>\n",
       "      <td>164.220001</td>\n",
       "      <td>60.650002</td>\n",
       "      <td>359.269989</td>\n",
       "      <td>209.800003</td>\n",
       "      <td>161.039993</td>\n",
       "      <td>212.619995</td>\n",
       "      <td>59.290001</td>\n",
       "      <td>32.689999</td>\n",
       "      <td>146.660004</td>\n",
       "      <td>44.610001</td>\n",
       "    </tr>\n",
       "    <tr>\n",
       "      <th>2021-01-07</th>\n",
       "      <td>330.000000</td>\n",
       "      <td>225.039993</td>\n",
       "      <td>82900.0</td>\n",
       "      <td>4.91</td>\n",
       "      <td>413.230011</td>\n",
       "      <td>52.200001</td>\n",
       "      <td>2140.000000</td>\n",
       "      <td>130.919998</td>\n",
       "      <td>106.709999</td>\n",
       "      <td>111.300003</td>\n",
       "      <td>...</td>\n",
       "      <td>167.940002</td>\n",
       "      <td>59.820000</td>\n",
       "      <td>365.029999</td>\n",
       "      <td>212.720001</td>\n",
       "      <td>159.000000</td>\n",
       "      <td>213.809998</td>\n",
       "      <td>58.529999</td>\n",
       "      <td>33.430000</td>\n",
       "      <td>146.649994</td>\n",
       "      <td>44.959999</td>\n",
       "    </tr>\n",
       "    <tr>\n",
       "      <th>...</th>\n",
       "      <td>...</td>\n",
       "      <td>...</td>\n",
       "      <td>...</td>\n",
       "      <td>...</td>\n",
       "      <td>...</td>\n",
       "      <td>...</td>\n",
       "      <td>...</td>\n",
       "      <td>...</td>\n",
       "      <td>...</td>\n",
       "      <td>...</td>\n",
       "      <td>...</td>\n",
       "      <td>...</td>\n",
       "      <td>...</td>\n",
       "      <td>...</td>\n",
       "      <td>...</td>\n",
       "      <td>...</td>\n",
       "      <td>...</td>\n",
       "      <td>...</td>\n",
       "      <td>...</td>\n",
       "      <td>...</td>\n",
       "      <td>...</td>\n",
       "    </tr>\n",
       "    <tr>\n",
       "      <th>2021-11-22</th>\n",
       "      <td>215.970001</td>\n",
       "      <td>311.000000</td>\n",
       "      <td>74900.0</td>\n",
       "      <td>4.27</td>\n",
       "      <td>681.000000</td>\n",
       "      <td>63.849998</td>\n",
       "      <td>1854.270020</td>\n",
       "      <td>161.020004</td>\n",
       "      <td>115.650002</td>\n",
       "      <td>125.260002</td>\n",
       "      <td>...</td>\n",
       "      <td>192.500000</td>\n",
       "      <td>51.270000</td>\n",
       "      <td>437.540009</td>\n",
       "      <td>243.910004</td>\n",
       "      <td>210.880005</td>\n",
       "      <td>195.580002</td>\n",
       "      <td>51.540001</td>\n",
       "      <td>50.340000</td>\n",
       "      <td>144.779999</td>\n",
       "      <td>61.509998</td>\n",
       "    </tr>\n",
       "    <tr>\n",
       "      <th>2021-11-23</th>\n",
       "      <td>214.800003</td>\n",
       "      <td>308.480011</td>\n",
       "      <td>75300.0</td>\n",
       "      <td>4.25</td>\n",
       "      <td>672.000000</td>\n",
       "      <td>63.599998</td>\n",
       "      <td>1896.430054</td>\n",
       "      <td>161.410004</td>\n",
       "      <td>118.879997</td>\n",
       "      <td>124.480003</td>\n",
       "      <td>...</td>\n",
       "      <td>192.639999</td>\n",
       "      <td>52.250000</td>\n",
       "      <td>447.130005</td>\n",
       "      <td>247.369995</td>\n",
       "      <td>211.809998</td>\n",
       "      <td>198.490005</td>\n",
       "      <td>51.750000</td>\n",
       "      <td>51.400002</td>\n",
       "      <td>145.809998</td>\n",
       "      <td>63.130001</td>\n",
       "    </tr>\n",
       "    <tr>\n",
       "      <th>2021-11-24</th>\n",
       "      <td>224.419998</td>\n",
       "      <td>303.200012</td>\n",
       "      <td>74800.0</td>\n",
       "      <td>4.26</td>\n",
       "      <td>658.799988</td>\n",
       "      <td>63.400002</td>\n",
       "      <td>1941.000000</td>\n",
       "      <td>161.940002</td>\n",
       "      <td>118.660004</td>\n",
       "      <td>125.070000</td>\n",
       "      <td>...</td>\n",
       "      <td>193.600006</td>\n",
       "      <td>52.099998</td>\n",
       "      <td>450.160004</td>\n",
       "      <td>246.600006</td>\n",
       "      <td>208.470001</td>\n",
       "      <td>203.250000</td>\n",
       "      <td>51.660000</td>\n",
       "      <td>51.310001</td>\n",
       "      <td>146.539993</td>\n",
       "      <td>63.480000</td>\n",
       "    </tr>\n",
       "    <tr>\n",
       "      <th>2021-11-26</th>\n",
       "      <td>222.860001</td>\n",
       "      <td>297.660004</td>\n",
       "      <td>72300.0</td>\n",
       "      <td>4.19</td>\n",
       "      <td>658.000000</td>\n",
       "      <td>61.750000</td>\n",
       "      <td>1941.010010</td>\n",
       "      <td>156.809998</td>\n",
       "      <td>116.510002</td>\n",
       "      <td>125.879997</td>\n",
       "      <td>...</td>\n",
       "      <td>188.259995</td>\n",
       "      <td>52.490002</td>\n",
       "      <td>439.910004</td>\n",
       "      <td>239.789993</td>\n",
       "      <td>205.300003</td>\n",
       "      <td>197.649994</td>\n",
       "      <td>51.799999</td>\n",
       "      <td>48.430000</td>\n",
       "      <td>144.899994</td>\n",
       "      <td>61.250000</td>\n",
       "    </tr>\n",
       "    <tr>\n",
       "      <th>2021-11-29</th>\n",
       "      <td>224.729996</td>\n",
       "      <td>304.459991</td>\n",
       "      <td>72300.0</td>\n",
       "      <td>4.16</td>\n",
       "      <td>679.799988</td>\n",
       "      <td>60.950001</td>\n",
       "      <td>1985.000000</td>\n",
       "      <td>160.240005</td>\n",
       "      <td>116.889999</td>\n",
       "      <td>128.029999</td>\n",
       "      <td>...</td>\n",
       "      <td>194.380005</td>\n",
       "      <td>52.759998</td>\n",
       "      <td>452.000000</td>\n",
       "      <td>239.460007</td>\n",
       "      <td>204.639999</td>\n",
       "      <td>196.289993</td>\n",
       "      <td>51.660000</td>\n",
       "      <td>49.160000</td>\n",
       "      <td>142.630005</td>\n",
       "      <td>61.590000</td>\n",
       "    </tr>\n",
       "  </tbody>\n",
       "</table>\n",
       "<p>238 rows × 97 columns</p>\n",
       "</div>"
      ],
      "text/plain": [
       "             000858.SZ   002594.SZ  005930.KS  1398.HK   300750.SZ    3968.HK  \\\n",
       "Date                                                                            \n",
       "2020-12-31         NaN         NaN        NaN      NaN         NaN        NaN   \n",
       "2021-01-04  298.049988  206.759995    83000.0     4.85  404.100006  47.000000   \n",
       "2021-01-05  319.980011  219.899994    83900.0     4.81  402.000000  47.849998   \n",
       "2021-01-06  328.299988  216.300003    82200.0     4.82  406.769989  49.200001   \n",
       "2021-01-07  330.000000  225.039993    82900.0     4.91  413.230011  52.200001   \n",
       "...                ...         ...        ...      ...         ...        ...   \n",
       "2021-11-22  215.970001  311.000000    74900.0     4.27  681.000000  63.849998   \n",
       "2021-11-23  214.800003  308.480011    75300.0     4.25  672.000000  63.599998   \n",
       "2021-11-24  224.419998  303.200012    74800.0     4.26  658.799988  63.400002   \n",
       "2021-11-26  222.860001  297.660004    72300.0     4.19  658.000000  61.750000   \n",
       "2021-11-29  224.729996  304.459991    72300.0     4.16  679.799988  60.950001   \n",
       "\n",
       "              600519.SS        AAPL        ABBV         ABT  ...         TXN  \\\n",
       "Date                                                         ...               \n",
       "2020-12-31          NaN  132.690002  107.150002  109.489998  ...  164.130005   \n",
       "2021-01-04  1997.000000  129.410004  105.410004  109.110001  ...  162.220001   \n",
       "2021-01-05  2059.449951  131.009995  106.500000  110.459999  ...  163.410004   \n",
       "2021-01-06  2100.000000  126.599998  105.580002  110.230003  ...  164.220001   \n",
       "2021-01-07  2140.000000  130.919998  106.709999  111.300003  ...  167.940002   \n",
       "...                 ...         ...         ...         ...  ...         ...   \n",
       "2021-11-22  1854.270020  161.020004  115.650002  125.260002  ...  192.500000   \n",
       "2021-11-23  1896.430054  161.410004  118.879997  124.480003  ...  192.639999   \n",
       "2021-11-24  1941.000000  161.940002  118.660004  125.070000  ...  193.600006   \n",
       "2021-11-26  1941.010010  156.809998  116.510002  125.879997  ...  188.259995   \n",
       "2021-11-29  1985.000000  160.240005  116.889999  128.029999  ...  194.380005   \n",
       "\n",
       "                   UL         UNH         UNP         UPS           V  \\\n",
       "Date                                                                    \n",
       "2020-12-31  60.360001  350.679993  208.220001  168.399994  218.729996   \n",
       "2021-01-04  60.529999  349.500000  203.009995  163.800003  217.759995   \n",
       "2021-01-05  60.560001  344.799988  205.500000  161.520004  214.509995   \n",
       "2021-01-06  60.650002  359.269989  209.800003  161.039993  212.619995   \n",
       "2021-01-07  59.820000  365.029999  212.720001  159.000000  213.809998   \n",
       "...               ...         ...         ...         ...         ...   \n",
       "2021-11-22  51.270000  437.540009  243.910004  210.880005  195.580002   \n",
       "2021-11-23  52.250000  447.130005  247.369995  211.809998  198.490005   \n",
       "2021-11-24  52.099998  450.160004  246.600006  208.470001  203.250000   \n",
       "2021-11-26  52.490002  439.910004  239.789993  205.300003  197.649994   \n",
       "2021-11-29  52.759998  452.000000  239.460007  204.639999  196.289993   \n",
       "\n",
       "                   VZ        WFC         WMT        XOM  \n",
       "Date                                                     \n",
       "2020-12-31  58.750000  30.180000  144.149994  41.220001  \n",
       "2021-01-04  58.849998  29.700001  146.529999  41.500000  \n",
       "2021-01-05  58.580002  30.530001  145.750000  43.500000  \n",
       "2021-01-06  59.290001  32.689999  146.660004  44.610001  \n",
       "2021-01-07  58.529999  33.430000  146.649994  44.959999  \n",
       "...               ...        ...         ...        ...  \n",
       "2021-11-22  51.540001  50.340000  144.779999  61.509998  \n",
       "2021-11-23  51.750000  51.400002  145.809998  63.130001  \n",
       "2021-11-24  51.660000  51.310001  146.539993  63.480000  \n",
       "2021-11-26  51.799999  48.430000  144.899994  61.250000  \n",
       "2021-11-29  51.660000  49.160000  142.630005  61.590000  \n",
       "\n",
       "[238 rows x 97 columns]"
      ]
     },
     "execution_count": 41,
     "metadata": {},
     "output_type": "execute_result"
    }
   ],
   "source": [
    "# drop all empty rows and us market closing dates\n",
    "list2 = ['2021-01-01','2021-01-03','2021-01-10','2021-01-17','2021-01-24','2021-01-31','2021-02-07','2021-02-14',\n",
    "         '2021-02-15','2021-02-21','2021-02-28','2021-03-07','2021-03-14','2021-03-21','2021-03-28,','2021-04-02',\n",
    "         '2021-04-04','2021-04-11','2021-04-18','2021-04-25','2021-05-02','2021-05-09','2021-05-23','2021-05-30',\n",
    "         '2021-07-11','2021-07-25','2021-08-01','2021-08-08','2021-08-15','2021-08-22','2021-08-29','2021-09-05',\n",
    "         '2021-09-06','2021-09-12','2021-09-19','2021-09-26','2021-10-03','2021-10-10','2021-10-17','2021-10-24',\n",
    "         '2021-10-31','2021-11-7','2021-11-14','2021-11-21','2021-11-25','2021-11-28']\n",
    "df2 = df2[~df2['Date'].isin(list2)].set_index('Date')\n",
    "df2"
   ]
  },
  {
   "cell_type": "code",
   "execution_count": 42,
   "metadata": {},
   "outputs": [
    {
     "name": "stderr",
     "output_type": "stream",
     "text": [
      "C:\\anoconda\\lib\\site-packages\\sklearn\\impute\\_iterative.py:638: ConvergenceWarning: [IterativeImputer] Early stopping criterion not reached.\n",
      "  \" reached.\", ConvergenceWarning)\n"
     ]
    },
    {
     "data": {
      "text/html": [
       "<div>\n",
       "<style scoped>\n",
       "    .dataframe tbody tr th:only-of-type {\n",
       "        vertical-align: middle;\n",
       "    }\n",
       "\n",
       "    .dataframe tbody tr th {\n",
       "        vertical-align: top;\n",
       "    }\n",
       "\n",
       "    .dataframe thead th {\n",
       "        text-align: right;\n",
       "    }\n",
       "</style>\n",
       "<table border=\"1\" class=\"dataframe\">\n",
       "  <thead>\n",
       "    <tr style=\"text-align: right;\">\n",
       "      <th></th>\n",
       "      <th>000858.SZ</th>\n",
       "      <th>002594.SZ</th>\n",
       "      <th>005930.KS</th>\n",
       "      <th>1398.HK</th>\n",
       "      <th>300750.SZ</th>\n",
       "      <th>3968.HK</th>\n",
       "      <th>600519.SS</th>\n",
       "      <th>AAPL</th>\n",
       "      <th>ABBV</th>\n",
       "      <th>ABT</th>\n",
       "      <th>...</th>\n",
       "      <th>TXN</th>\n",
       "      <th>UL</th>\n",
       "      <th>UNH</th>\n",
       "      <th>UNP</th>\n",
       "      <th>UPS</th>\n",
       "      <th>V</th>\n",
       "      <th>VZ</th>\n",
       "      <th>WFC</th>\n",
       "      <th>WMT</th>\n",
       "      <th>XOM</th>\n",
       "    </tr>\n",
       "    <tr>\n",
       "      <th>Date</th>\n",
       "      <th></th>\n",
       "      <th></th>\n",
       "      <th></th>\n",
       "      <th></th>\n",
       "      <th></th>\n",
       "      <th></th>\n",
       "      <th></th>\n",
       "      <th></th>\n",
       "      <th></th>\n",
       "      <th></th>\n",
       "      <th></th>\n",
       "      <th></th>\n",
       "      <th></th>\n",
       "      <th></th>\n",
       "      <th></th>\n",
       "      <th></th>\n",
       "      <th></th>\n",
       "      <th></th>\n",
       "      <th></th>\n",
       "      <th></th>\n",
       "      <th></th>\n",
       "    </tr>\n",
       "  </thead>\n",
       "  <tbody>\n",
       "    <tr>\n",
       "      <th>2021-02-22</th>\n",
       "      <td>313.059998</td>\n",
       "      <td>239.520004</td>\n",
       "      <td>82200.0</td>\n",
       "      <td>5.13</td>\n",
       "      <td>375.000000</td>\n",
       "      <td>62.900002</td>\n",
       "      <td>2288.020020</td>\n",
       "      <td>126.000000</td>\n",
       "      <td>107.059998</td>\n",
       "      <td>122.550003</td>\n",
       "      <td>...</td>\n",
       "      <td>173.089996</td>\n",
       "      <td>54.310001</td>\n",
       "      <td>327.640015</td>\n",
       "      <td>206.830002</td>\n",
       "      <td>161.600006</td>\n",
       "      <td>208.320007</td>\n",
       "      <td>56.450001</td>\n",
       "      <td>37.259998</td>\n",
       "      <td>137.690002</td>\n",
       "      <td>54.299999</td>\n",
       "    </tr>\n",
       "    <tr>\n",
       "      <th>2021-02-23</th>\n",
       "      <td>315.000000</td>\n",
       "      <td>225.000000</td>\n",
       "      <td>82000.0</td>\n",
       "      <td>5.27</td>\n",
       "      <td>376.540009</td>\n",
       "      <td>66.349998</td>\n",
       "      <td>2307.000000</td>\n",
       "      <td>125.860001</td>\n",
       "      <td>106.269997</td>\n",
       "      <td>120.800003</td>\n",
       "      <td>...</td>\n",
       "      <td>172.850006</td>\n",
       "      <td>55.419998</td>\n",
       "      <td>329.510010</td>\n",
       "      <td>206.960007</td>\n",
       "      <td>160.809998</td>\n",
       "      <td>212.110001</td>\n",
       "      <td>57.029999</td>\n",
       "      <td>37.139999</td>\n",
       "      <td>135.470001</td>\n",
       "      <td>55.049999</td>\n",
       "    </tr>\n",
       "    <tr>\n",
       "      <th>2021-02-24</th>\n",
       "      <td>293.079987</td>\n",
       "      <td>208.990005</td>\n",
       "      <td>82000.0</td>\n",
       "      <td>5.17</td>\n",
       "      <td>347.000000</td>\n",
       "      <td>62.700001</td>\n",
       "      <td>2189.000000</td>\n",
       "      <td>125.349998</td>\n",
       "      <td>108.690002</td>\n",
       "      <td>122.379997</td>\n",
       "      <td>...</td>\n",
       "      <td>179.389999</td>\n",
       "      <td>54.259998</td>\n",
       "      <td>332.209991</td>\n",
       "      <td>211.149994</td>\n",
       "      <td>160.070007</td>\n",
       "      <td>219.429993</td>\n",
       "      <td>57.119999</td>\n",
       "      <td>38.290001</td>\n",
       "      <td>133.210007</td>\n",
       "      <td>56.700001</td>\n",
       "    </tr>\n",
       "    <tr>\n",
       "      <th>2021-02-25</th>\n",
       "      <td>288.899994</td>\n",
       "      <td>209.250000</td>\n",
       "      <td>85300.0</td>\n",
       "      <td>5.24</td>\n",
       "      <td>337.100006</td>\n",
       "      <td>64.000000</td>\n",
       "      <td>2150.000000</td>\n",
       "      <td>120.989998</td>\n",
       "      <td>107.330002</td>\n",
       "      <td>121.580002</td>\n",
       "      <td>...</td>\n",
       "      <td>170.529999</td>\n",
       "      <td>53.810001</td>\n",
       "      <td>328.869995</td>\n",
       "      <td>208.669998</td>\n",
       "      <td>157.509995</td>\n",
       "      <td>213.750000</td>\n",
       "      <td>56.500000</td>\n",
       "      <td>37.560001</td>\n",
       "      <td>131.949997</td>\n",
       "      <td>55.759998</td>\n",
       "    </tr>\n",
       "    <tr>\n",
       "      <th>2021-02-26</th>\n",
       "      <td>280.000000</td>\n",
       "      <td>197.270004</td>\n",
       "      <td>82500.0</td>\n",
       "      <td>5.06</td>\n",
       "      <td>322.230011</td>\n",
       "      <td>59.549999</td>\n",
       "      <td>2122.780029</td>\n",
       "      <td>121.260002</td>\n",
       "      <td>107.739998</td>\n",
       "      <td>119.779999</td>\n",
       "      <td>...</td>\n",
       "      <td>172.270004</td>\n",
       "      <td>52.060001</td>\n",
       "      <td>332.220001</td>\n",
       "      <td>205.960007</td>\n",
       "      <td>157.830002</td>\n",
       "      <td>212.389999</td>\n",
       "      <td>55.299999</td>\n",
       "      <td>36.169998</td>\n",
       "      <td>129.919998</td>\n",
       "      <td>54.369999</td>\n",
       "    </tr>\n",
       "  </tbody>\n",
       "</table>\n",
       "<p>5 rows × 97 columns</p>\n",
       "</div>"
      ],
      "text/plain": [
       "             000858.SZ   002594.SZ  005930.KS  1398.HK   300750.SZ    3968.HK  \\\n",
       "Date                                                                            \n",
       "2021-02-22  313.059998  239.520004    82200.0     5.13  375.000000  62.900002   \n",
       "2021-02-23  315.000000  225.000000    82000.0     5.27  376.540009  66.349998   \n",
       "2021-02-24  293.079987  208.990005    82000.0     5.17  347.000000  62.700001   \n",
       "2021-02-25  288.899994  209.250000    85300.0     5.24  337.100006  64.000000   \n",
       "2021-02-26  280.000000  197.270004    82500.0     5.06  322.230011  59.549999   \n",
       "\n",
       "              600519.SS        AAPL        ABBV         ABT  ...         TXN  \\\n",
       "Date                                                         ...               \n",
       "2021-02-22  2288.020020  126.000000  107.059998  122.550003  ...  173.089996   \n",
       "2021-02-23  2307.000000  125.860001  106.269997  120.800003  ...  172.850006   \n",
       "2021-02-24  2189.000000  125.349998  108.690002  122.379997  ...  179.389999   \n",
       "2021-02-25  2150.000000  120.989998  107.330002  121.580002  ...  170.529999   \n",
       "2021-02-26  2122.780029  121.260002  107.739998  119.779999  ...  172.270004   \n",
       "\n",
       "                   UL         UNH         UNP         UPS           V  \\\n",
       "Date                                                                    \n",
       "2021-02-22  54.310001  327.640015  206.830002  161.600006  208.320007   \n",
       "2021-02-23  55.419998  329.510010  206.960007  160.809998  212.110001   \n",
       "2021-02-24  54.259998  332.209991  211.149994  160.070007  219.429993   \n",
       "2021-02-25  53.810001  328.869995  208.669998  157.509995  213.750000   \n",
       "2021-02-26  52.060001  332.220001  205.960007  157.830002  212.389999   \n",
       "\n",
       "                   VZ        WFC         WMT        XOM  \n",
       "Date                                                     \n",
       "2021-02-22  56.450001  37.259998  137.690002  54.299999  \n",
       "2021-02-23  57.029999  37.139999  135.470001  55.049999  \n",
       "2021-02-24  57.119999  38.290001  133.210007  56.700001  \n",
       "2021-02-25  56.500000  37.560001  131.949997  55.759998  \n",
       "2021-02-26  55.299999  36.169998  129.919998  54.369999  \n",
       "\n",
       "[5 rows x 97 columns]"
      ]
     },
     "execution_count": 42,
     "metadata": {},
     "output_type": "execute_result"
    }
   ],
   "source": [
    "impute_it=IterativeImputer()\n",
    "data_te = pd.DataFrame(impute_it.fit_transform(df2))\n",
    "data_te.columns=df2.columns\n",
    "data_te.index = df2.index\n",
    "data_te[35:40]"
   ]
  },
  {
   "cell_type": "code",
   "execution_count": 43,
   "metadata": {},
   "outputs": [],
   "source": [
    "# Return Rate\n",
    "df_te = np.array(data_te.pct_change(1)[1:])\n",
    "# normalize data\n",
    "df_te = df_te/np.std(df_te,axis=0)\n",
    "# covariance/eigen_val/eigen_vector\n",
    "cov_te = np.cov(df_te.T)\n",
    "std_vector_te = np.std(df_te,axis=0)\n",
    "te_eig_vals,te_eig_vecs = np.linalg.eig(cov_te)\n",
    "te_eig_vecs = te_eig_vecs.T\n",
    "sort_indices = te_eig_vals.argsort()[::-1]\n",
    "te_eig_vals = te_eig_vals[sort_indices]\n",
    "te_eig_vecs = te_eig_vecs[sort_indices]"
   ]
  },
  {
   "cell_type": "code",
   "execution_count": 44,
   "metadata": {},
   "outputs": [
    {
     "data": {
      "text/plain": [
       "(97,)"
      ]
     },
     "execution_count": 44,
     "metadata": {},
     "output_type": "execute_result"
    }
   ],
   "source": [
    "te_eig_vals.shape"
   ]
  },
  {
   "cell_type": "code",
   "execution_count": 45,
   "metadata": {},
   "outputs": [
    {
     "data": {
      "text/plain": [
       "(97, 97)"
      ]
     },
     "execution_count": 45,
     "metadata": {},
     "output_type": "execute_result"
    }
   ],
   "source": [
    "te_eig_vecs.shape"
   ]
  },
  {
   "cell_type": "code",
   "execution_count": 46,
   "metadata": {},
   "outputs": [
    {
     "data": {
      "text/plain": [
       "(237, 97)"
      ]
     },
     "execution_count": 46,
     "metadata": {},
     "output_type": "execute_result"
    }
   ],
   "source": [
    "df_te.shape"
   ]
  },
  {
   "cell_type": "code",
   "execution_count": 47,
   "metadata": {},
   "outputs": [],
   "source": [
    "te_top_factors = np.zeros((df_te.shape[0],d))\n",
    "for i in range(d):\n",
    "    te_eigen_vec = te_eig_vecs[i,:]\n",
    "    te_eigen_vec /= std_vector_te\n",
    "    te_top_factors[:,i] = df_te.dot(te_eigen_vec)"
   ]
  },
  {
   "cell_type": "code",
   "execution_count": 48,
   "metadata": {},
   "outputs": [],
   "source": [
    "y_te = np.array(df_te)[:,8]\n",
    "X_te = sm.add_constant(te_top_factors)\n",
    "results_te = sm.OLS(y_te,X_te).fit()"
   ]
  },
  {
   "cell_type": "code",
   "execution_count": 49,
   "metadata": {},
   "outputs": [
    {
     "name": "stdout",
     "output_type": "stream",
     "text": [
      "                            OLS Regression Results                            \n",
      "==============================================================================\n",
      "Dep. Variable:                      y   R-squared:                       0.585\n",
      "Model:                            OLS   Adj. R-squared:                  0.559\n",
      "Method:                 Least Squares   F-statistic:                     22.38\n",
      "Date:                Mon, 13 Dec 2021   Prob (F-statistic):           4.78e-35\n",
      "Time:                        13:57:14   Log-Likelihood:                -231.97\n",
      "No. Observations:                 237   AIC:                             493.9\n",
      "Df Residuals:                     222   BIC:                             546.0\n",
      "Df Model:                          14                                         \n",
      "Covariance Type:            nonrobust                                         \n",
      "==============================================================================\n",
      "                 coef    std err          t      P>|t|      [0.025      0.975]\n",
      "------------------------------------------------------------------------------\n",
      "const          0.0051      0.044      0.114      0.910      -0.083       0.093\n",
      "x1             0.0783      0.009      8.637      0.000       0.060       0.096\n",
      "x2             0.0486      0.010      4.990      0.000       0.029       0.068\n",
      "x3            -0.0502      0.016     -3.106      0.002      -0.082      -0.018\n",
      "x4            -0.1907      0.022     -8.798      0.000      -0.233      -0.148\n",
      "x5             0.1053      0.022      4.741      0.000       0.062       0.149\n",
      "x6            -0.0642      0.027     -2.381      0.018      -0.117      -0.011\n",
      "x7            -0.0796      0.029     -2.714      0.007      -0.137      -0.022\n",
      "x8             0.1403      0.031      4.534      0.000       0.079       0.201\n",
      "x9            -0.0446      0.033     -1.335      0.183      -0.110       0.021\n",
      "x10           -0.0502      0.034     -1.463      0.145      -0.118       0.017\n",
      "x11           -0.2230      0.037     -6.000      0.000      -0.296      -0.150\n",
      "x12            0.1613      0.038      4.226      0.000       0.086       0.236\n",
      "x13           -0.1298      0.040     -3.249      0.001      -0.209      -0.051\n",
      "x14           -0.0631      0.041     -1.553      0.122      -0.143       0.017\n",
      "==============================================================================\n",
      "Omnibus:                      103.450   Durbin-Watson:                   1.973\n",
      "Prob(Omnibus):                  0.000   Jarque-Bera (JB):             1155.976\n",
      "Skew:                          -1.378   Prob(JB):                    9.62e-252\n",
      "Kurtosis:                      13.463   Cond. No.                         5.08\n",
      "==============================================================================\n",
      "\n",
      "Warnings:\n",
      "[1] Standard Errors assume that the covariance matrix of the errors is correctly specified.\n"
     ]
    }
   ],
   "source": [
    "print(results_te.summary())  # the R-squared=0.585, good performance"
   ]
  },
  {
   "cell_type": "code",
   "execution_count": 50,
   "metadata": {},
   "outputs": [],
   "source": [
    "# the R-squared is 58.3%, so this features can almost explain 60% of target variables; \n",
    "# the performance is acceptable.\n",
    "# Although some of P values are large due to non-significant coefficient(especially the constant's P values), \n",
    "# most of P values are zero"
   ]
  },
  {
   "cell_type": "code",
   "execution_count": 51,
   "metadata": {},
   "outputs": [],
   "source": [
    "Residual = y_te-np.dot(X_te,results_te.params)\n",
    "Residual_index = len(residual)+np.cumsum(np.ones(Residual.shape[0]))-1"
   ]
  },
  {
   "cell_type": "code",
   "execution_count": 55,
   "metadata": {},
   "outputs": [
    {
     "data": {
      "text/plain": [
       "<matplotlib.legend.Legend at 0x1997666bb00>"
      ]
     },
     "execution_count": 55,
     "metadata": {},
     "output_type": "execute_result"
    },
    {
     "data": {
      "image/png": "[encoded data removed]",
      "text/plain": [
       "<Figure size 1656x504 with 1 Axes>"
      ]
     },
     "metadata": {
      "needs_background": "light"
     },
     "output_type": "display_data"
    }
   ],
   "source": [
    "plt.figure(figsize=(23,7))\n",
    "plt.plot(np.cumsum(residual)-np.mean(np.cumsum(residual)),label='in-sample')\n",
    "plt.plot(Residual_index,Residual,lw=1,c='m',label='out-of-sample')\n",
    "plt.axhline(residual.mean(),ls='--',c='r',lw=2)\n",
    "plt.axhline(residual.mean()+2*residual.std(),ls='--',c='g',lw=2)\n",
    "plt.axhline(residual.mean()-2*residual.std(),ls='--',c='g',lw=2)\n",
    "plt.xlabel('dates')\n",
    "plt.ylabel('signal')\n",
    "plt.grid()\n",
    "plt.legend()"
   ]
  },
  {
   "cell_type": "code",
   "execution_count": 58,
   "metadata": {},
   "outputs": [
    {
     "data": {
      "text/plain": [
       "<matplotlib.legend.Legend at 0x19976735cc0>"
      ]
     },
     "execution_count": 58,
     "metadata": {},
     "output_type": "execute_result"
    },
    {
     "data": {
      "image/png": "[encoded data removed]",
      "text/plain": [
       "<Figure size 1224x504 with 1 Axes>"
      ]
     },
     "metadata": {
      "needs_background": "light"
     },
     "output_type": "display_data"
    }
   ],
   "source": [
    "plt.figure(figsize=(17,7))\n",
    "plt.plot(Residual_index,Residual,lw=1,c='m',label='out-of-sample')\n",
    "plt.axhline(residual.mean(),ls='--',c='r',lw=2)\n",
    "plt.axhline(residual.mean()+2*residual.std(),ls='--',c='g',lw=2)\n",
    "plt.axhline(residual.mean()-2*residual.std(),ls='--',c='g',lw=2)\n",
    "plt.xlabel('dates')\n",
    "plt.ylabel('signal')\n",
    "plt.grid()\n",
    "plt.legend()"
   ]
  },
  {
   "cell_type": "code",
   "execution_count": 53,
   "metadata": {},
   "outputs": [],
   "source": [
    "# long Visa (short others) for 37 times, short Visa (long others) for 41 times, each trade earns 0.3948\n",
    "# The total profit is $30.79"
   ]
  },
  {
   "cell_type": "markdown",
   "metadata": {},
   "source": [
    "### Step 8: Compares with the pair-trading strategy"
   ]
  },
  {
   "cell_type": "code",
   "execution_count": 60,
   "metadata": {},
   "outputs": [],
   "source": [
    "# find cointegrated stocks with Visa\n",
    "# define cointegration function\n",
    "import seaborn as sns\n",
    "def find_cointegrated_pairs(dataframe):\n",
    "    # length of dataframe\n",
    "    n = dataframe.shape[1]\n",
    "    # Initialize matrix of p values:\n",
    "    pvalue_matrix = np.ones((n,n))\n",
    "    keys = dataframe.keys()\n",
    "    pairs = []\n",
    "    for i in range(n):\n",
    "        for j in range(i+1,n):\n",
    "            stock1 = dataframe[keys[i]]\n",
    "            stock2 = dataframe[keys[j]]\n",
    "            # integration\n",
    "            result = sm.tsa.stattools.coint(stock1,stock2)\n",
    "            pvalue = result[1]\n",
    "            pvalue_matrix[i,j]= pvalue\n",
    "            if pvalue < 0.05:\n",
    "                pairs.append((keys[i],keys[j],pvalue))\n",
    "    return pvalue_matrix, pairs"
   ]
  },
  {
   "cell_type": "code",
   "execution_count": 93,
   "metadata": {},
   "outputs": [],
   "source": [
    "# visa is in credit service industry, I choose 37 stocks in the same industry.(swingtradebot.com)\n",
    "# Due to the main business, these stocks are strongly correlated \n",
    "stock_credit = ['NNI','CPSS','OCSL','MRLN','MBNKP','PRAA','CACC','ENVA','MFIN','WRLD',\n",
    "                'SLM','NAVI','IX','GSBD','SNFCA','CNF','MGI','LMFA',\n",
    "                 'SYF','AXP','MA','DFS','FOA','ATLC','BBDC','NICK','SLMBP','AGM',\n",
    "                  'QFIN','RM','EZPW','WEI','LC','COF','V','PYPL','GLG']"
   ]
  },
  {
   "cell_type": "code",
   "execution_count": 147,
   "metadata": {},
   "outputs": [
    {
     "name": "stdout",
     "output_type": "stream",
     "text": [
      "[*********************100%***********************]  37 of 37 completed\n"
     ]
    }
   ],
   "source": [
    "start_c = datetime.datetime(2021,1,1)\n",
    "end_c = datetime.datetime(2021,6,1)\n",
    "data_v = yf.download(stock_credit,start_c,end_c)\n",
    "data_v =data_v['Close']"
   ]
  },
  {
   "cell_type": "code",
   "execution_count": 148,
   "metadata": {},
   "outputs": [],
   "source": [
    "data_v = data_v.dropna()"
   ]
  },
  {
   "cell_type": "code",
   "execution_count": 149,
   "metadata": {},
   "outputs": [
    {
     "data": {
      "text/plain": [
       "Index(['AGM', 'ATLC', 'AXP', 'BBDC', 'CACC', 'CNF', 'COF', 'CPSS', 'DFS',\n",
       "       'ENVA', 'EZPW', 'FOA', 'GLG', 'GSBD', 'IX', 'LC', 'LMFA', 'MA', 'MBNKP',\n",
       "       'MFIN', 'MGI', 'MRLN', 'NAVI', 'NICK', 'NNI', 'OCSL', 'PRAA', 'PYPL',\n",
       "       'QFIN', 'RM', 'SLM', 'SLMBP', 'SNFCA', 'SYF', 'V', 'WEI', 'WRLD'],\n",
       "      dtype='object')"
      ]
     },
     "execution_count": 149,
     "metadata": {},
     "output_type": "execute_result"
    }
   ],
   "source": [
    "data_v.columns"
   ]
  },
  {
   "cell_type": "markdown",
   "metadata": {},
   "source": [
    "### Step 8.1 Find cointegrated stock"
   ]
  },
  {
   "cell_type": "code",
   "execution_count": 150,
   "metadata": {},
   "outputs": [
    {
     "name": "stdout",
     "output_type": "stream",
     "text": [
      "[('AGM', 'DFS', 0.00508584147678475), ('AGM', 'FOA', 0.002623102642240613), ('AGM', 'MBNKP', 0.009569824314826822), ('AGM', 'MFIN', 0.04818297682869792), ('AGM', 'PRAA', 0.033774697445901274), ('AGM', 'SLM', 0.023756025304327664), ('AGM', 'V', 0.04194056342874565), ('ATLC', 'AXP', 0.03318367948798501), ('ATLC', 'COF', 0.014651293958056205), ('ATLC', 'EZPW', 0.019977206976282733), ('ATLC', 'NAVI', 0.009855217201331182), ('ATLC', 'RM', 0.028764243260244276), ('ATLC', 'SLM', 0.04315138951352003), ('AXP', 'CACC', 0.019950318876756367), ('AXP', 'CNF', 0.03451824086553263), ('AXP', 'COF', 0.006970991141000159), ('AXP', 'ENVA', 0.019800935913141863), ('AXP', 'MFIN', 0.009763456049071069), ('AXP', 'NAVI', 0.0032940541404179896), ('AXP', 'SLMBP', 0.006383393342379321), ('BBDC', 'CNF', 0.046721790032470026), ('BBDC', 'RM', 0.026521727978646596), ('CACC', 'CNF', 0.004900708598732447), ('CACC', 'COF', 0.04796900665542206), ('CACC', 'NAVI', 0.001660249836778869), ('CACC', 'SLMBP', 0.02723091925479884), ('CNF', 'RM', 0.0021720940869007443), ('COF', 'SLMBP', 0.005761940159045336), ('CPSS', 'MBNKP', 0.011101616936970442), ('DFS', 'SLMBP', 0.0013168817381030299), ('DFS', 'SYF', 0.024904137116120162), ('ENVA', 'EZPW', 0.03355323042732685), ('ENVA', 'SYF', 0.0009766038989738614), ('EZPW', 'SYF', 0.017610718929599305), ('GLG', 'GSBD', 0.01128418633867845), ('GLG', 'IX', 0.007763766291130158), ('GLG', 'LMFA', 0.0016095509068195328), ('GLG', 'MGI', 0.016378336713962344), ('GLG', 'NAVI', 0.03462216144414353), ('GLG', 'PRAA', 0.013678683623807399), ('GLG', 'RM', 0.03530470624743543), ('GLG', 'SLMBP', 0.0276135551058877), ('GLG', 'SYF', 0.024196339746695952), ('GLG', 'WEI', 0.010478337415893794), ('GLG', 'WRLD', 0.020398467077364757), ('GSBD', 'LMFA', 0.02615958586398833), ('GSBD', 'RM', 0.043562479242756136), ('GSBD', 'WEI', 0.002967419580337681), ('IX', 'WRLD', 0.03557498995859049), ('LC', 'MFIN', 0.009404599669588851), ('LC', 'MRLN', 0.015435386135659099), ('LC', 'NAVI', 0.008438571238897043), ('LC', 'PRAA', 0.004253865123675988), ('LC', 'RM', 0.029872196809253213), ('LC', 'SLM', 0.036866939869786446), ('LC', 'SYF', 0.027053963203754472), ('MBNKP', 'MFIN', 0.03244551793120614), ('MBNKP', 'MRLN', 0.002929828306790581), ('MBNKP', 'NAVI', 0.030597883312456123), ('MBNKP', 'NICK', 0.015154365669903044), ('MBNKP', 'PRAA', 0.00652665589782755), ('MBNKP', 'SLM', 0.017169785877536602), ('MBNKP', 'V', 0.0005982361491260884), ('MFIN', 'NAVI', 0.00803481249755672), ('NAVI', 'SLMBP', 0.009156136876376704), ('NICK', 'PRAA', 1.0244028876660763e-05), ('NICK', 'PYPL', 9.487068019950067e-05), ('NICK', 'RM', 0.00016754252427220572), ('NICK', 'SLM', 0.0007271159740077823), ('NICK', 'SLMBP', 4.494195087277866e-07), ('NICK', 'SYF', 0.00019143168353418083), ('NICK', 'WEI', 0.0008852448154476795), ('NICK', 'WRLD', 0.005260317045368368), ('NNI', 'OCSL', 0.02735397066705765), ('NNI', 'PRAA', 0.004069211682238474), ('NNI', 'PYPL', 0.0007058338454248747), ('NNI', 'QFIN', 0.010255998017900525), ('NNI', 'RM', 0.0005639858825628333), ('NNI', 'SLM', 0.010160658459124818), ('NNI', 'SLMBP', 0.000779972836008161), ('NNI', 'SNFCA', 0.0009060147388122713), ('NNI', 'SYF', 0.0009968850481856337), ('NNI', 'V', 0.009196339802395558), ('NNI', 'WEI', 0.0019701730486546692), ('NNI', 'WRLD', 0.00018691070484306993), ('OCSL', 'V', 0.000545515342200943), ('PRAA', 'SLM', 1.3701862671570192e-06), ('PRAA', 'SLMBP', 0.03388277455310894), ('QFIN', 'SLM', 0.014766593415231453), ('QFIN', 'SNFCA', 0.018315855429846987), ('QFIN', 'SYF', 0.012995506463215083), ('SLM', 'SLMBP', 0.03953419938442112), ('SLMBP', 'SYF', 0.007693438057324194), ('SNFCA', 'SYF', 0.013707816988727216), ('SNFCA', 'V', 0.01231782650639803), ('SNFCA', 'WRLD', 0.006262044620387451)]\n"
     ]
    },
    {
     "data": {
      "image/png": "[encoded data removed]",
      "text/plain": [
       "<Figure size 432x288 with 2 Axes>"
      ]
     },
     "metadata": {
      "needs_background": "light"
     },
     "output_type": "display_data"
    }
   ],
   "source": [
    "pvalues,pairs = find_cointegrated_pairs(data_v)\n",
    "list_c = data_v.columns.tolist()\n",
    "sns.heatmap(1-pvalues,xticklabels=list_c,yticklabels=list_c,cmap='RdYlGn_r',mask=(pvalues ==1))\n",
    "print(pairs)"
   ]
  },
  {
   "cell_type": "code",
   "execution_count": 132,
   "metadata": {},
   "outputs": [],
   "source": [
    "# the smaller p-value is, the higher cointegration is \n",
    "# AVG-V: 0.042 MBNKP-V: 0.000598; NNI-V: 0.00919; OCSL-V: 0.00054; SNFCA: 0.012;\n",
    "# Choose OCSL and V to construct pairs trading"
   ]
  },
  {
   "cell_type": "markdown",
   "metadata": {},
   "source": [
    "### Step 8.2: Data Visualization"
   ]
  },
  {
   "cell_type": "code",
   "execution_count": 157,
   "metadata": {},
   "outputs": [
    {
     "data": {
      "image/png": "[encoded data removed]",
      "text/plain": [
       "<Figure size 720x360 with 1 Axes>"
      ]
     },
     "metadata": {
      "needs_background": "light"
     },
     "output_type": "display_data"
    }
   ],
   "source": [
    "# highly cointegrated with visa: 'SYF'(Synchrony Financial)\n",
    "stock_sample1 = data_v['OCSL']\n",
    "stock_sample2 = data_v['V']\n",
    "plt.figure(figsize=(10,5))\n",
    "plt.plot(stock_sample1,label='OCSL')\n",
    "plt.plot(stock_sample2,label='V')\n",
    "plt.xlabel('Time')\n",
    "plt.ylabel('Price')\n",
    "plt.legend()\n",
    "plt.grid()"
   ]
  },
  {
   "cell_type": "code",
   "execution_count": 158,
   "metadata": {},
   "outputs": [
    {
     "data": {
      "text/plain": [
       "<matplotlib.legend.Legend at 0x19977770ac8>"
      ]
     },
     "execution_count": 158,
     "metadata": {},
     "output_type": "execute_result"
    },
    {
     "data": {
      "image/png": "[encoded data removed]",
      "text/plain": [
       "<Figure size 720x432 with 1 Axes>"
      ]
     },
     "metadata": {
      "needs_background": "light"
     },
     "output_type": "display_data"
    }
   ],
   "source": [
    "cm_syf = (data_v['OCSL'].pct_change()+1).cumprod()\n",
    "cm_v = (data_v['V'].pct_change()+1).cumprod()\n",
    "plt.figure(figsize=(10,6))\n",
    "plt.plot(cm_syf,lw=3,label='OCSL')\n",
    "plt.plot(cm_v,lw=3,label='V')\n",
    "plt.xlabel('Date since 2021-01-01')\n",
    "plt.ylabel('Culmulative Return')\n",
    "plt.grid()\n",
    "plt.legend()"
   ]
  },
  {
   "cell_type": "markdown",
   "metadata": {},
   "source": [
    "### Step 8.3: OLS Linear Regression"
   ]
  },
  {
   "cell_type": "code",
   "execution_count": 159,
   "metadata": {},
   "outputs": [],
   "source": [
    "x = sm.add_constant(data_v['OCSL'],prepend=False)\n",
    "ols = sm.OLS(data_v['V'],x).fit()  # y=kx+b\n",
    "beta = ols.params\n",
    "y_fit = [x.min().dot(beta),x.max().dot(beta)]"
   ]
  },
  {
   "cell_type": "code",
   "execution_count": 160,
   "metadata": {},
   "outputs": [
    {
     "name": "stdout",
     "output_type": "stream",
     "text": [
      "                            OLS Regression Results                            \n",
      "==============================================================================\n",
      "Dep. Variable:                      V   R-squared:                       0.581\n",
      "Model:                            OLS   Adj. R-squared:                  0.570\n",
      "Method:                 Least Squares   F-statistic:                     52.60\n",
      "Date:                Mon, 13 Dec 2021   Prob (F-statistic):           1.12e-08\n",
      "Time:                        18:12:03   Log-Likelihood:                -97.867\n",
      "No. Observations:                  40   AIC:                             199.7\n",
      "Df Residuals:                      38   BIC:                             203.1\n",
      "Df Model:                           1                                         \n",
      "Covariance Type:            nonrobust                                         \n",
      "==============================================================================\n",
      "                 coef    std err          t      P>|t|      [0.025      0.975]\n",
      "------------------------------------------------------------------------------\n",
      "OCSL          39.1335      5.396      7.253      0.000      28.210      50.056\n",
      "const        -33.4175     35.857     -0.932      0.357    -106.007      39.172\n",
      "==============================================================================\n",
      "Omnibus:                        0.558   Durbin-Watson:                   0.879\n",
      "Prob(Omnibus):                  0.756   Jarque-Bera (JB):                0.293\n",
      "Skew:                           0.209   Prob(JB):                        0.864\n",
      "Kurtosis:                       2.981   Cond. No.                         538.\n",
      "==============================================================================\n",
      "\n",
      "Warnings:\n",
      "[1] Standard Errors assume that the covariance matrix of the errors is correctly specified.\n"
     ]
    }
   ],
   "source": [
    "print(ols.summary())"
   ]
  },
  {
   "cell_type": "code",
   "execution_count": 161,
   "metadata": {},
   "outputs": [],
   "source": [
    "# R_squared is 0.581"
   ]
  },
  {
   "cell_type": "code",
   "execution_count": 162,
   "metadata": {},
   "outputs": [],
   "source": [
    "data_v=data_v.reset_index()"
   ]
  },
  {
   "cell_type": "code",
   "execution_count": 163,
   "metadata": {},
   "outputs": [
    {
     "data": {
      "image/png": "[encoded data removed]",
      "text/plain": [
       "<Figure size 720x432 with 2 Axes>"
      ]
     },
     "metadata": {
      "needs_background": "light"
     },
     "output_type": "display_data"
    }
   ],
   "source": [
    "# Price Relationship between 'NNI' and 'V'\n",
    "plt.figure(figsize=(10,6))\n",
    "colors = np.linspace(0.1,1,len(data_v))\n",
    "sc = plt.scatter(data_v['OCSL'],data_v['V'],c=colors,cmap=plt.get_cmap('jet'),edgecolor='k')\n",
    "cb=plt.colorbar(sc)\n",
    "cb.ax.set_yticklabels([str(data_v['Date'][p])[:10] for p in data_v[::len(data_v)//9].index])\n",
    "plt.xlabel('OCSL')\n",
    "plt.ylabel('V')\n",
    "plt.grid()"
   ]
  },
  {
   "cell_type": "markdown",
   "metadata": {},
   "source": [
    "### Step 8.4: Modeling Spread and design trading strategy"
   ]
  },
  {
   "cell_type": "code",
   "execution_count": 164,
   "metadata": {},
   "outputs": [
    {
     "data": {
      "text/plain": [
       "OCSL     39.133488\n",
       "const   -33.417526\n",
       "dtype: float64"
      ]
     },
     "execution_count": 164,
     "metadata": {},
     "output_type": "execute_result"
    }
   ],
   "source": [
    "beta"
   ]
  },
  {
   "cell_type": "code",
   "execution_count": 174,
   "metadata": {},
   "outputs": [],
   "source": [
    "spread = pd.DataFrame(data_v['V']-beta[0]*data_v['OCSL']-beta[1])\n",
    "spread.columns = ['in-sample']"
   ]
  },
  {
   "cell_type": "code",
   "execution_count": 179,
   "metadata": {},
   "outputs": [
    {
     "data": {
      "text/plain": [
       "Text(0.5, 1.0, 'OCSL-V Spread')"
      ]
     },
     "execution_count": 179,
     "metadata": {},
     "output_type": "execute_result"
    },
    {
     "data": {
      "image/png": "[encoded data removed]",
      "text/plain": [
       "<Figure size 504x288 with 1 Axes>"
      ]
     },
     "metadata": {
      "needs_background": "light"
     },
     "output_type": "display_data"
    }
   ],
   "source": [
    "plt.figure(figsize = (7,4))\n",
    "plt.plot(spread,lw=2)\n",
    "plt.axhline(spread['in-sample'].mean(),ls='--',c='r',lw=3)\n",
    "plt.axhline(spread['in-sample'].mean()+spread['in-sample'].std(),ls='--',c='g',lw=3)\n",
    "plt.axhline(spread['in-sample'].mean()-spread['in-sample'].std(),ls='--',c='g',lw=3)\n",
    "plt.xlabel('Date since 2021-01-01')\n",
    "plt.ylabel('Spread')\n",
    "plt.title('OCSL-V Spread')"
   ]
  },
  {
   "cell_type": "code",
   "execution_count": 180,
   "metadata": {},
   "outputs": [
    {
     "data": {
      "text/plain": [
       "2.8303416324850095"
      ]
     },
     "execution_count": 180,
     "metadata": {},
     "output_type": "execute_result"
    }
   ],
   "source": [
    "spread['in-sample'].std()  # Each trade earns $2.83"
   ]
  },
  {
   "cell_type": "markdown",
   "metadata": {},
   "source": [
    "### Step 8.5: Test trading strategy"
   ]
  },
  {
   "cell_type": "code",
   "execution_count": 182,
   "metadata": {},
   "outputs": [
    {
     "name": "stdout",
     "output_type": "stream",
     "text": [
      "[*********************100%***********************]  1 of 1 completed\n",
      "[*********************100%***********************]  1 of 1 completed\n"
     ]
    }
   ],
   "source": [
    "start_cte = datetime.datetime(2021,6,1)\n",
    "end_cte = datetime.datetime(2021,12,1)\n",
    "data_OCSL_te = yf.download('OCSL',start_cte,end_cte)\n",
    "data_V_te = yf.download('V',start_cte,end_cte)"
   ]
  },
  {
   "cell_type": "code",
   "execution_count": 183,
   "metadata": {},
   "outputs": [],
   "source": [
    "data_OCSL_te=data_OCSL_te.reset_index()\n",
    "data_OCSL_te = data_OCSL_te[['Date','Close']]\n",
    "data_OCSL_te.columns=['Date','OCSL']\n",
    "data_V_te=data_V_te.reset_index()\n",
    "data_V_te=data_V_te[['Date','Close']]\n",
    "data_V_te.columns=['Date','V']"
   ]
  },
  {
   "cell_type": "code",
   "execution_count": 184,
   "metadata": {},
   "outputs": [
    {
     "data": {
      "text/html": [
       "<div>\n",
       "<style scoped>\n",
       "    .dataframe tbody tr th:only-of-type {\n",
       "        vertical-align: middle;\n",
       "    }\n",
       "\n",
       "    .dataframe tbody tr th {\n",
       "        vertical-align: top;\n",
       "    }\n",
       "\n",
       "    .dataframe thead th {\n",
       "        text-align: right;\n",
       "    }\n",
       "</style>\n",
       "<table border=\"1\" class=\"dataframe\">\n",
       "  <thead>\n",
       "    <tr style=\"text-align: right;\">\n",
       "      <th></th>\n",
       "      <th>Date</th>\n",
       "      <th>OCSL</th>\n",
       "      <th>V</th>\n",
       "    </tr>\n",
       "  </thead>\n",
       "  <tbody>\n",
       "    <tr>\n",
       "      <th>0</th>\n",
       "      <td>2021-06-01</td>\n",
       "      <td>6.79</td>\n",
       "      <td>226.630005</td>\n",
       "    </tr>\n",
       "    <tr>\n",
       "      <th>1</th>\n",
       "      <td>2021-06-02</td>\n",
       "      <td>6.80</td>\n",
       "      <td>229.660004</td>\n",
       "    </tr>\n",
       "    <tr>\n",
       "      <th>2</th>\n",
       "      <td>2021-06-03</td>\n",
       "      <td>6.75</td>\n",
       "      <td>228.110001</td>\n",
       "    </tr>\n",
       "    <tr>\n",
       "      <th>3</th>\n",
       "      <td>2021-06-04</td>\n",
       "      <td>6.79</td>\n",
       "      <td>230.139999</td>\n",
       "    </tr>\n",
       "    <tr>\n",
       "      <th>4</th>\n",
       "      <td>2021-06-07</td>\n",
       "      <td>6.81</td>\n",
       "      <td>231.320007</td>\n",
       "    </tr>\n",
       "  </tbody>\n",
       "</table>\n",
       "</div>"
      ],
      "text/plain": [
       "        Date  OCSL           V\n",
       "0 2021-06-01  6.79  226.630005\n",
       "1 2021-06-02  6.80  229.660004\n",
       "2 2021-06-03  6.75  228.110001\n",
       "3 2021-06-04  6.79  230.139999\n",
       "4 2021-06-07  6.81  231.320007"
      ]
     },
     "execution_count": 184,
     "metadata": {},
     "output_type": "execute_result"
    }
   ],
   "source": [
    "df_c = pd.merge(data_OCSL_te,data_V_te,on='Date')\n",
    "df_c[:5]"
   ]
  },
  {
   "cell_type": "code",
   "execution_count": 185,
   "metadata": {},
   "outputs": [],
   "source": [
    "spread_te = pd.DataFrame(df_c['V']-beta[0]*df_c['OCSL']-beta[1])\n",
    "spread_index = len(spread)+np.cumsum(np.ones(spread_te.shape[0]))-1"
   ]
  },
  {
   "cell_type": "code",
   "execution_count": 187,
   "metadata": {},
   "outputs": [
    {
     "data": {
      "text/plain": [
       "Text(0.5, 0, 'Date since 2021-06-01')"
      ]
     },
     "execution_count": 187,
     "metadata": {},
     "output_type": "execute_result"
    },
    {
     "data": {
      "image/png": "[encoded data removed]",
      "text/plain": [
       "<Figure size 720x432 with 1 Axes>"
      ]
     },
     "metadata": {
      "needs_background": "light"
     },
     "output_type": "display_data"
    }
   ],
   "source": [
    "plt.figure(figsize=(10,6))\n",
    "plt.plot(spread,lw=3,c='b',label='in-sample')\n",
    "plt.plot(spread_index,spread_te,lw=3,c='c',label='out-of-sample')\n",
    "plt.axhline(spread['in-sample'].mean(),ls='--',c='r',lw=3)\n",
    "plt.axhline(spread['in-sample'].mean()+spread['in-sample'].std(),ls='--',c='g',lw=3)\n",
    "plt.axhline(spread['in-sample'].mean()-spread['in-sample'].std(),ls='--',c='g',lw=3)\n",
    "plt.legend()\n",
    "plt.grid()\n",
    "plt.ylabel('Spread')\n",
    "plt.xlabel('Date since 2021-06-01')"
   ]
  },
  {
   "cell_type": "markdown",
   "metadata": {},
   "source": [
    "### Step 9: Conclusion"
   ]
  },
  {
   "cell_type": "code",
   "execution_count": 188,
   "metadata": {},
   "outputs": [],
   "source": [
    "pca_r_in = 3.94  # during 2019-2020 (2 years)\n",
    "pca_r_out = 30.79 # 2021-1~2021-11 (11 months)\n",
    "pt_r_in = 1.45 # 2021-1~2021-06\n",
    "pt_r_out = 0.85 # 2021-6~2021-11\n",
    "# Dynamic Trading Strategy based on PCA is far more successful"
   ]
  },
  {
   "cell_type": "code",
   "execution_count": null,
   "metadata": {},
   "outputs": [],
   "source": []
  }
 ],
 "metadata": {
  "kernelspec": {
   "display_name": "Python 3",
   "language": "python",
   "name": "python3"
  },
  "language_info": {
   "codemirror_mode": {
    "name": "ipython",
    "version": 3
   },
   "file_extension": ".py",
   "mimetype": "text/x-python",
   "name": "python",
   "nbconvert_exporter": "python",
   "pygments_lexer": "ipython3",
   "version": "3.6.10"
  }
 },
 "nbformat": 4,
 "nbformat_minor": 4
}
